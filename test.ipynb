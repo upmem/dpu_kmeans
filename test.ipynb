{
 "cells": [
  {
   "cell_type": "code",
   "execution_count": 8,
   "metadata": {},
   "outputs": [],
   "source": [
    "import numpy as np\n",
    "from sklearn.cluster import KMeans\n",
    "from sklearn.datasets import make_blobs\n",
    "from sklearn.metrics import adjusted_rand_score\n",
    "from sklearn.utils.random import sample_without_replacement\n",
    "\n",
    "from dpu_kmeans import KMeans as DPUKMeans\n",
    "from dpu_kmeans import _dimm"
   ]
  },
  {
   "cell_type": "code",
   "execution_count": 2,
   "metadata": {},
   "outputs": [],
   "source": [
    "n_clusters = 24\n",
    "n_features = 128\n",
    "\n",
    "# Generating data\n",
    "data, _, cluster_centers = make_blobs(\n",
    "    189744, n_features, centers=n_clusters, random_state=42, return_centers=True\n",
    ")\n",
    "data = data.astype(np.float32)"
   ]
  },
  {
   "cell_type": "code",
   "execution_count": 9,
   "metadata": {},
   "outputs": [],
   "source": [
    "# init = data[:n_clusters]\n",
    "random_indices = sample_without_replacement(data.shape[0], n_clusters)\n",
    "init = data[random_indices]"
   ]
  },
  {
   "cell_type": "code",
   "execution_count": 12,
   "metadata": {},
   "outputs": [
    {
     "data": {
      "text/plain": [
       "array([[  4.771264  ,  -7.219874  ,  -0.51637363, ...,   3.7460227 ,\n",
       "          2.8486187 ,   2.9453998 ],\n",
       "       [  8.166596  ,   7.435871  ,  -9.30122   , ...,  -5.748111  ,\n",
       "         -3.0777838 ,  -3.3193371 ],\n",
       "       [  7.9807262 ,   6.4990854 , -10.483797  , ...,  -5.0767336 ,\n",
       "         -3.8965597 ,  -2.3717184 ],\n",
       "       ...,\n",
       "       [  2.8557692 ,   2.4825664 ,   0.24453983, ...,   1.004271  ,\n",
       "          7.4293537 ,   6.940505  ],\n",
       "       [  2.023298  ,   8.640464  ,  -6.496045  , ...,  -4.130565  ,\n",
       "         -2.0474305 ,  -7.243475  ],\n",
       "       [  9.739472  ,   3.510812  ,   1.5167512 , ...,   4.6071734 ,\n",
       "          2.6162312 ,   7.1432323 ]], dtype=float32)"
      ]
     },
     "execution_count": 12,
     "metadata": {},
     "output_type": "execute_result"
    }
   ],
   "source": [
    "data"
   ]
  },
  {
   "cell_type": "code",
   "execution_count": 10,
   "metadata": {},
   "outputs": [
    {
     "data": {
      "text/plain": [
       "array([[  1.7426486 ,   4.0304656 ,   1.1338533 , ...,  -1.1913342 ,\n",
       "          7.1195283 ,   5.892659  ],\n",
       "       [ -3.1823075 ,   7.366415  ,  -7.401923  , ...,  -1.6261057 ,\n",
       "          5.0001316 ,  -5.7320776 ],\n",
       "       [ 10.53519   ,   6.714587  ,  -8.972932  , ...,   0.4531855 ,\n",
       "         -6.516776  ,   4.48062   ],\n",
       "       ...,\n",
       "       [ -0.08904582,  -7.3533416 ,  -0.2223897 , ...,   6.8967695 ,\n",
       "         -4.6407557 ,   5.3046036 ],\n",
       "       [  3.7059107 ,   6.6423697 ,  -2.3031654 , ...,   5.320952  ,\n",
       "          1.5280334 ,  -0.4609982 ],\n",
       "       [ 10.755179  ,  -2.8949156 ,   9.957793  , ...,  -4.516404  ,\n",
       "        -10.553544  ,   1.955852  ]], dtype=float32)"
      ]
     },
     "execution_count": 10,
     "metadata": {},
     "output_type": "execute_result"
    }
   ],
   "source": [
    "init"
   ]
  },
  {
   "cell_type": "code",
   "execution_count": 11,
   "metadata": {},
   "outputs": [
    {
     "data": {
      "text/plain": [
       "array([[-2.50919762,  9.01428613,  4.63987884, ..., -1.45784423,\n",
       "         6.36029532,  7.21461167],\n",
       "       [-9.86095739,  0.21494605, -1.65177994, ..., -3.6615599 ,\n",
       "        -6.61014507,  1.13602525],\n",
       "       [ 8.72309548,  3.92059593,  1.4012234 , ...,  3.93474331,\n",
       "         2.57885694,  7.54944027],\n",
       "       ...,\n",
       "       [-0.14270831, -1.91420505,  0.61875357, ..., -6.74600512,\n",
       "         1.30170625,  5.43253822],\n",
       "       [-0.02208671, -9.75793766, -9.81923062, ...,  2.03107759,\n",
       "        -4.06880176,  4.28848328],\n",
       "       [ 5.18010565, -7.94968072,  0.27708928, ...,  3.52052576,\n",
       "         4.1325974 ,  2.20014834]])"
      ]
     },
     "execution_count": 11,
     "metadata": {},
     "output_type": "execute_result"
    }
   ],
   "source": [
    "cluster_centers"
   ]
  },
  {
   "cell_type": "code",
   "execution_count": 13,
   "metadata": {},
   "outputs": [
    {
     "name": "stderr",
     "output_type": "stream",
     "text": [
      "/tmp/ipykernel_22019/3970772417.py:3: ConvergenceWarning: Number of distinct clusters (2) found smaller than n_clusters ({self.n_clusters}). Possibly due to duplicate points in X.\n",
      "  dpu_kmeans.fit(data)\n"
     ]
    },
    {
     "data": {
      "text/plain": [
       "KMeans(n_clusters=24)"
      ]
     },
     "execution_count": 13,
     "metadata": {},
     "output_type": "execute_result"
    }
   ],
   "source": [
    "_dimm.set_n_dpu(0)\n",
    "dpu_kmeans = DPUKMeans(n_clusters, init=init, n_init=1, verbose=False)\n",
    "dpu_kmeans.fit(data)"
   ]
  },
  {
   "cell_type": "code",
   "execution_count": 14,
   "metadata": {},
   "outputs": [
    {
     "data": {
      "text/plain": [
       "array([[  4.771264  ,  -7.219874  ,  -0.51637363, ...,   3.7460227 ,\n",
       "          2.8486187 ,   2.9453998 ],\n",
       "       [  8.166596  ,   7.435871  ,  -9.30122   , ...,  -5.748111  ,\n",
       "         -3.0777838 ,  -3.3193371 ],\n",
       "       [  7.9807262 ,   6.4990854 , -10.483797  , ...,  -5.0767336 ,\n",
       "         -3.8965597 ,  -2.3717184 ],\n",
       "       ...,\n",
       "       [  8.331457  ,   8.099338  ,  -8.439631  , ...,  -4.532519  ,\n",
       "         -3.8283393 ,  -2.0209363 ],\n",
       "       [ -8.947395  ,  -3.2727482 ,  -5.528247  , ...,   1.6012347 ,\n",
       "          5.032277  ,   6.8295035 ],\n",
       "       [  9.990998  ,   7.4628572 ,  -4.821114  , ...,   1.2166181 ,\n",
       "         -7.012418  ,   5.3712745 ]], dtype=float32)"
      ]
     },
     "execution_count": 14,
     "metadata": {},
     "output_type": "execute_result"
    }
   ],
   "source": [
    "init = data[:n_clusters]\n",
    "init"
   ]
  },
  {
   "cell_type": "code",
   "execution_count": 15,
   "metadata": {},
   "outputs": [
    {
     "data": {
      "text/plain": [
       "array([[ 1.3303317e+00,  3.9413381e+00,  3.2927275e-02, ...,\n",
       "        -5.1136857e-01, -1.0725869e+00,  4.0913887e+00],\n",
       "       [ 1.9839731e+00,  7.7704310e-02, -3.5580156e+00, ...,\n",
       "         1.0379659e+00, -2.4717897e-02,  1.5238031e+00],\n",
       "       [-1.0310614e+01,  1.1234547e+01, -2.7569126e+01, ...,\n",
       "         3.3350323e+01,  4.5027704e+00, -2.5404182e+01],\n",
       "       ...,\n",
       "       [-1.8129801e+01, -2.0070793e+01, -7.0284433e+00, ...,\n",
       "         2.3627407e+01,  1.9034039e+01,  1.7388906e+01],\n",
       "       [-9.4649658e+00,  7.6762862e+00, -1.5811750e+01, ...,\n",
       "        -2.3365330e+01,  3.1073298e+01,  2.9297438e+01],\n",
       "       [-8.5376120e+00,  2.9511997e+01, -1.5640169e+01, ...,\n",
       "        -1.4884332e+01, -2.9948219e+01, -1.2725568e+00]], dtype=float32)"
      ]
     },
     "execution_count": 15,
     "metadata": {},
     "output_type": "execute_result"
    }
   ],
   "source": [
    "dpu_kmeans.cluster_centers_"
   ]
  },
  {
   "cell_type": "code",
   "execution_count": 16,
   "metadata": {},
   "outputs": [
    {
     "data": {
      "text/plain": [
       "KMeans(algorithm='full',\n",
       "       init=array([[  4.771264  ,  -7.219874  ,  -0.51637363, ...,   3.7460227 ,\n",
       "          2.8486187 ,   2.9453998 ],\n",
       "       [  8.166596  ,   7.435871  ,  -9.30122   , ...,  -5.748111  ,\n",
       "         -3.0777838 ,  -3.3193371 ],\n",
       "       [  7.9807262 ,   6.4990854 , -10.483797  , ...,  -5.0767336 ,\n",
       "         -3.8965597 ,  -2.3717184 ],\n",
       "       ...,\n",
       "       [  8.331457  ,   8.099338  ,  -8.439631  , ...,  -4.532519  ,\n",
       "         -3.8283393 ,  -2.0209363 ],\n",
       "       [ -8.947395  ,  -3.2727482 ,  -5.528247  , ...,   1.6012347 ,\n",
       "          5.032277  ,   6.8295035 ],\n",
       "       [  9.990998  ,   7.4628572 ,  -4.821114  , ...,   1.2166181 ,\n",
       "         -7.012418  ,   5.3712745 ]], dtype=float32),\n",
       "       n_clusters=24, n_init=1)"
      ]
     },
     "execution_count": 16,
     "metadata": {},
     "output_type": "execute_result"
    }
   ],
   "source": [
    "kmeans = KMeans(n_clusters, init=init, n_init=1, algorithm=\"full\")\n",
    "kmeans.fit(data)"
   ]
  },
  {
   "cell_type": "code",
   "execution_count": 18,
   "metadata": {},
   "outputs": [
    {
     "data": {
      "text/plain": [
       "0.0633108225571073"
      ]
     },
     "execution_count": 18,
     "metadata": {},
     "output_type": "execute_result"
    }
   ],
   "source": [
    "adjusted_rand_score(dpu_kmeans.labels_, kmeans.labels_)"
   ]
  },
  {
   "cell_type": "code",
   "execution_count": 19,
   "metadata": {},
   "outputs": [
    {
     "data": {
      "text/plain": [
       "array([[  4.771264  ,  -7.219874  ,  -0.51637363, ...,   3.7460227 ,\n",
       "          2.8486187 ,   2.9453998 ],\n",
       "       [  8.166596  ,   7.435871  ,  -9.30122   , ...,  -5.748111  ,\n",
       "         -3.0777838 ,  -3.3193371 ],\n",
       "       [  7.9807262 ,   6.4990854 , -10.483797  , ...,  -5.0767336 ,\n",
       "         -3.8965597 ,  -2.3717184 ],\n",
       "       ...,\n",
       "       [  2.8557692 ,   2.4825664 ,   0.24453983, ...,   1.004271  ,\n",
       "          7.4293537 ,   6.940505  ],\n",
       "       [  2.023298  ,   8.640464  ,  -6.496045  , ...,  -4.130565  ,\n",
       "         -2.0474305 ,  -7.243475  ],\n",
       "       [  9.739472  ,   3.510812  ,   1.5167512 , ...,   4.6071734 ,\n",
       "          2.6162312 ,   7.1432323 ]], dtype=float32)"
      ]
     },
     "execution_count": 19,
     "metadata": {},
     "output_type": "execute_result"
    }
   ],
   "source": [
    "data"
   ]
  }
 ],
 "metadata": {
  "kernelspec": {
   "display_name": "dpu_kmeans",
   "language": "python",
   "name": "python3"
  },
  "language_info": {
   "codemirror_mode": {
    "name": "ipython",
    "version": 3
   },
   "file_extension": ".py",
   "mimetype": "text/x-python",
   "name": "python",
   "nbconvert_exporter": "python",
   "pygments_lexer": "ipython3",
   "version": "3.8.20"
  }
 },
 "nbformat": 4,
 "nbformat_minor": 2
}
